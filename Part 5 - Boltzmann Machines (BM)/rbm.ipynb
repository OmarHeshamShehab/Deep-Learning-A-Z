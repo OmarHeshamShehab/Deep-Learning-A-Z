{
 "cells": [
  {
   "cell_type": "markdown",
   "metadata": {
    "id": "kqyu1kmoKbrE"
   },
   "source": [
    "# Boltzmann Machines"
   ]
  },
  {
   "cell_type": "markdown",
   "metadata": {
    "id": "9tAA6MwdRAVd"
   },
   "source": [
    "## Importing the libraries"
   ]
  },
  {
   "cell_type": "code",
   "execution_count": 1,
   "metadata": {
    "executionInfo": {
     "elapsed": 5062,
     "status": "ok",
     "timestamp": 1727885831233,
     "user": {
      "displayName": "Hadelin de Ponteves",
      "userId": "15047218817161520419"
     },
     "user_tz": -240
    },
    "id": "rvT-kejMRJgi"
   },
   "outputs": [],
   "source": [
    "import numpy as np\n",
    "import pandas as pd\n",
    "import torch\n",
    "import torch.nn as nn\n",
    "import torch.nn.parallel\n",
    "import torch.optim as optim\n",
    "import torch.utils.data\n",
    "from torch.autograd import Variable"
   ]
  },
  {
   "cell_type": "markdown",
   "metadata": {
    "id": "PDWL9xRfSRhC"
   },
   "source": [
    "## Importing the dataset"
   ]
  },
  {
   "cell_type": "markdown",
   "metadata": {},
   "source": [
    "1. **engine=\"python\"**\n",
    "\n",
    "The engine parameter specifies the parser engine to use. \"python\" means the Python engine will be used instead of the default C engine. This can be helpful for more complex separators, like \"::\", which the C engine may not handle well.\n",
    "\n",
    "\n",
    "2. **encoding=\"latin-1\"**\n",
    "\n",
    "The encoding parameter specifies the character encoding to use when reading the file. \"latin-1\" (also known as ISO-8859-1) is commonly used for Western European languages and characters. This encoding is often used if the dataset contains special characters that might not be handled by UTF-8 encoding."
   ]
  },
  {
   "cell_type": "code",
   "execution_count": 2,
   "metadata": {
    "executionInfo": {
     "elapsed": 7370,
     "status": "ok",
     "timestamp": 1727885843308,
     "user": {
      "displayName": "Hadelin de Ponteves",
      "userId": "15047218817161520419"
     },
     "user_tz": -240
    },
    "id": "-TUs9ZhVXoS8"
   },
   "outputs": [],
   "source": [
    "movies = pd.read_csv(\n",
    "    \"ml-1m/movies.dat\", sep=\"::\", header=None, engine=\"python\", encoding=\"latin-1\"\n",
    ")\n",
    "users = pd.read_csv(\n",
    "    \"ml-1m/users.dat\", sep=\"::\", header=None, engine=\"python\", encoding=\"latin-1\"\n",
    ")\n",
    "ratings = pd.read_csv(\n",
    "    \"ml-1m/ratings.dat\", sep=\"::\", header=None, engine=\"python\", encoding=\"latin-1\"\n",
    ")"
   ]
  },
  {
   "cell_type": "markdown",
   "metadata": {
    "id": "Ifo6XYFvXsRF"
   },
   "source": [
    "## Preparing the training set and the test set"
   ]
  },
  {
   "cell_type": "code",
   "execution_count": 3,
   "metadata": {
    "executionInfo": {
     "elapsed": 611,
     "status": "ok",
     "timestamp": 1727885848024,
     "user": {
      "displayName": "Hadelin de Ponteves",
      "userId": "15047218817161520419"
     },
     "user_tz": -240
    },
    "id": "_9ctYDUSX5BW"
   },
   "outputs": [],
   "source": [
    "training_set = pd.read_csv(\"ml-100k/u1.base\", sep=\"\\t\")\n",
    "training_set = np.array(training_set, dtype=\"int\")\n",
    "test_set = pd.read_csv(\"ml-100k/u1.test\", sep=\"\\t\")\n",
    "test_set = np.array(test_set, dtype=\"int\")"
   ]
  },
  {
   "cell_type": "markdown",
   "metadata": {
    "id": "ujNEtV_fX8d3"
   },
   "source": [
    "## Getting the number of users and movies"
   ]
  },
  {
   "cell_type": "code",
   "execution_count": 4,
   "metadata": {
    "executionInfo": {
     "elapsed": 420,
     "status": "ok",
     "timestamp": 1727885850487,
     "user": {
      "displayName": "Hadelin de Ponteves",
      "userId": "15047218817161520419"
     },
     "user_tz": -240
    },
    "id": "PtCZ9njUYABx"
   },
   "outputs": [],
   "source": [
    "nb_users = int(max(max(training_set[:, 0]), max(test_set[:, 0])))\n",
    "nb_movies = int(max(max(training_set[:, 1]), max(test_set[:, 1])))"
   ]
  },
  {
   "cell_type": "markdown",
   "metadata": {
    "id": "iPJDmiQlYD1r"
   },
   "source": [
    "## Converting the data into an array with users in lines and movies in columns"
   ]
  },
  {
   "cell_type": "code",
   "execution_count": 5,
   "metadata": {
    "executionInfo": {
     "elapsed": 1181,
     "status": "ok",
     "timestamp": 1727885853520,
     "user": {
      "displayName": "Hadelin de Ponteves",
      "userId": "15047218817161520419"
     },
     "user_tz": -240
    },
    "id": "fj8m4cOtYUFR"
   },
   "outputs": [],
   "source": [
    "# Define a function to convert the dataset into a matrix format where each row represents a user and each column represents a movie.\n",
    "# Each entry in this matrix represents the user's rating for that specific movie.\n",
    "def convert(data):\n",
    "    new_data = (\n",
    "        []\n",
    "    )  # Initialize an empty list to store the transformed data for each user.\n",
    "\n",
    "    # Loop through each user by their ID (from 1 up to the number of users).\n",
    "    for id_users in range(1, nb_users + 1):\n",
    "\n",
    "        # Extract the movie IDs that the current user has rated.\n",
    "        # Filter rows where the user ID matches the current user and get the corresponding movie IDs (column index 1).\n",
    "        id_movies = data[:, 1][data[:, 0] == id_users]\n",
    "\n",
    "        # Extract the ratings given by the current user.\n",
    "        # Filter rows where the user ID matches the current user and get the corresponding ratings (column index 2).\n",
    "        id_ratings = data[:, 2][data[:, 0] == id_users]\n",
    "\n",
    "        # Initialize an array of zeros for the number of movies.\n",
    "        # Each entry in the array represents the user's rating for a movie (0 means no rating).\n",
    "        ratings = np.zeros(nb_movies)\n",
    "\n",
    "        # Populate the ratings array for the current user by setting the rating values for movies they rated.\n",
    "        # The movie IDs are adjusted by -1 to match Python's zero-based indexing.\n",
    "        ratings[id_movies - 1] = id_ratings\n",
    "\n",
    "        # Append the user's rating array (list of ratings) to new_data.\n",
    "        # Each entry in new_data represents one user's movie ratings.\n",
    "        new_data.append(list(ratings))\n",
    "\n",
    "    # Return the completed list, where each entry is a user's ratings for all movies.\n",
    "    return new_data\n",
    "\n",
    "\n",
    "# Convert the training and test sets to matrix format for model compatibility.\n",
    "training_set = convert(training_set)\n",
    "test_set = convert(test_set)"
   ]
  },
  {
   "cell_type": "markdown",
   "metadata": {
    "id": "Aj4327VkYZAB"
   },
   "source": [
    "## Converting the data into Torch tensors"
   ]
  },
  {
   "cell_type": "code",
   "execution_count": 6,
   "metadata": {
    "executionInfo": {
     "elapsed": 365,
     "status": "ok",
     "timestamp": 1727885856987,
     "user": {
      "displayName": "Hadelin de Ponteves",
      "userId": "15047218817161520419"
     },
     "user_tz": -240
    },
    "id": "2dApDXxNYduB"
   },
   "outputs": [],
   "source": [
    "# Convert the training and test sets from Python lists to PyTorch FloatTensors.\n",
    "# PyTorch requires data in tensor format for efficient operations on GPUs.\n",
    "# Converting to FloatTensor enables PyTorch's neural network and matrix operations on the data.\n",
    "training_set = torch.FloatTensor(training_set)\n",
    "test_set = torch.FloatTensor(test_set)"
   ]
  },
  {
   "cell_type": "markdown",
   "metadata": {
    "id": "5n17yuE5YheZ"
   },
   "source": [
    "## Converting the ratings into binary ratings 1 (Liked) or 0 (Not Liked)"
   ]
  },
  {
   "cell_type": "code",
   "execution_count": 7,
   "metadata": {
    "executionInfo": {
     "elapsed": 535,
     "status": "ok",
     "timestamp": 1727885859491,
     "user": {
      "displayName": "Hadelin de Ponteves",
      "userId": "15047218817161520419"
     },
     "user_tz": -240
    },
    "id": "98UFbH1bYpkA"
   },
   "outputs": [],
   "source": [
    "# Modify the training set values to prepare data for a binary classification or specific rating model.\n",
    "# This transformation reassigns ratings to simplify the input for a neural network:\n",
    "# - Ratings of 0 (no rating) are changed to -1, so the model can distinguish them from actual ratings.\n",
    "# - Ratings of 1 and 2 are changed to 0, possibly indicating \"dislike\" or \"neutral\" feedback.\n",
    "# - Ratings of 3 or higher are changed to 1, possibly indicating \"like\" or \"positive\" feedback.\n",
    "training_set[training_set == 0] = -1\n",
    "training_set[training_set == 1] = 0\n",
    "training_set[training_set == 2] = 0\n",
    "training_set[training_set >= 3] = 1\n",
    "\n",
    "# Apply the same transformation to the test set.\n",
    "# The same adjustments ensure the model interprets test data in the same way as training data.\n",
    "test_set[test_set == 0] = -1\n",
    "test_set[test_set == 1] = 0\n",
    "test_set[test_set == 2] = 0\n",
    "test_set[test_set >= 3] = 1"
   ]
  },
  {
   "cell_type": "markdown",
   "metadata": {
    "id": "lVXY7u7NYuuC"
   },
   "source": [
    "## Creating the architecture of the Neural Network"
   ]
  },
  {
   "cell_type": "code",
   "execution_count": 8,
   "metadata": {
    "executionInfo": {
     "elapsed": 495,
     "status": "ok",
     "timestamp": 1727885871375,
     "user": {
      "displayName": "Hadelin de Ponteves",
      "userId": "15047218817161520419"
     },
     "user_tz": -240
    },
    "id": "z-VRVwOw__D0"
   },
   "outputs": [],
   "source": [
    "# Define the Restricted Boltzmann Machine (RBM) class.\n",
    "# This class will create and train an RBM, a generative stochastic neural network with visible and hidden units.\n",
    "class RBM:\n",
    "    def __init__(self, nv, nh):\n",
    "        # Initialize the RBM with random weights and biases.\n",
    "        # nv: Number of visible nodes (units), i.e., features or inputs (in this case, movies).\n",
    "        # nh: Number of hidden nodes (units), used to learn hidden patterns.\n",
    "\n",
    "        # Initialize the weight matrix W with random values from a normal distribution.\n",
    "        # W is a matrix of weights with dimensions [nh x nv], connecting visible and hidden layers.\n",
    "        self.W = torch.randn(nh, nv)\n",
    "\n",
    "        # Initialize the bias vector for hidden units (a) with random values.\n",
    "        # This is a 1 x nh matrix (row vector), where each hidden node has its own bias.\n",
    "        self.a = torch.randn(1, nh)\n",
    "\n",
    "        # Initialize the bias vector for visible units (b) with random values.\n",
    "        # This is a 1 x nv matrix (row vector), where each visible node has its own bias.\n",
    "        self.b = torch.randn(1, nv)\n",
    "\n",
    "    # Sample hidden units based on visible units (input data).\n",
    "    def sample_h(self, x):\n",
    "        # x: The visible layer input (users' ratings for movies).\n",
    "\n",
    "        # Compute the activation for the hidden layer by multiplying x with W's transpose.\n",
    "        # This gives a weighted sum for each hidden unit based on the visible inputs.\n",
    "        wx = torch.mm(x, self.W.t())\n",
    "\n",
    "        # Add the hidden layer bias 'a' to each weighted sum.\n",
    "        # expand_as(wx) ensures the bias is expanded to match wx's dimensions, so it can be added element-wise.\n",
    "        activation = wx + self.a.expand_as(wx)\n",
    "\n",
    "        # Apply the sigmoid function to convert activation values to probabilities.\n",
    "        # p_h_given_v: The probability that each hidden unit is activated given the visible units.\n",
    "        p_h_given_v = torch.sigmoid(activation)\n",
    "\n",
    "        # Return the activation probabilities and a sampled state.\n",
    "        # torch.bernoulli(p_h_given_v) samples binary states (0 or 1) from the probabilities.\n",
    "        return p_h_given_v, torch.bernoulli(p_h_given_v)\n",
    "\n",
    "    # Sample visible units based on hidden units (reconstruction step).\n",
    "    def sample_v(self, y):\n",
    "        # y: The hidden layer input (binary states of hidden units).\n",
    "\n",
    "        # Compute the activation for the visible layer by multiplying y with W.\n",
    "        # This gives a weighted sum for each visible unit based on the hidden states.\n",
    "        wy = torch.mm(y, self.W)\n",
    "\n",
    "        # Add the visible layer bias 'b' to each weighted sum.\n",
    "        # expand_as(wy) ensures the bias is expanded to match wy's dimensions, so it can be added element-wise.\n",
    "        activation = wy + self.b.expand_as(wy)\n",
    "\n",
    "        # Apply the sigmoid function to convert activation values to probabilities.\n",
    "        # p_v_given_h: The probability that each visible unit is activated given the hidden units.\n",
    "        p_v_given_h = torch.sigmoid(activation)\n",
    "\n",
    "        # Return the activation probabilities and a sampled state.\n",
    "        # torch.bernoulli(p_v_given_h) samples binary states (0 or 1) from the probabilities.\n",
    "        return p_v_given_h, torch.bernoulli(p_v_given_h)\n",
    "\n",
    "    # Train the RBM using Contrastive Divergence, an approximation method for training RBMs.\n",
    "    def train(self, v0, vk, ph0, phk):\n",
    "        # v0: Initial visible layer input (the original data).\n",
    "        # vk: Reconstructed visible layer after k sampling steps (contrastive divergence step).\n",
    "        # ph0: Probabilities of the hidden units given v0 (initial hidden activations).\n",
    "        # phk: Probabilities of the hidden units given vk (hidden activations after k steps).\n",
    "\n",
    "        # Update the weights using the difference in correlation between initial and reconstructed states.\n",
    "        # The weight update is proportional to the difference between v0*ph0 and vk*phk.\n",
    "        # This follows the contrastive divergence rule to approximate the negative log-likelihood gradient.\n",
    "        self.W += torch.mm(v0.t(), ph0).t() - torch.mm(vk.t(), phk).t()\n",
    "\n",
    "        # Update the visible layer biases 'b'.\n",
    "        # This update uses the difference between the initial visible layer (v0) and the reconstructed (vk).\n",
    "        self.b += torch.sum((v0 - vk), 0)\n",
    "\n",
    "        # Update the hidden layer biases 'a'.\n",
    "        # This update uses the difference between the probabilities of initial and reconstructed hidden units.\n",
    "        self.a += torch.sum((ph0 - phk), 0)\n",
    "\n",
    "\n",
    "# Define the dimensions for the RBM and the batch size for training.\n",
    "nv = len(\n",
    "    training_set[0]\n",
    ")  # Number of visible units, based on the number of movies (columns in the dataset).\n",
    "nh = 100  # Number of hidden units, a hyperparameter for the model that determines latent factors learned.\n",
    "batch_size = 100  # Batch size used during training to update weights with mini-batches.\n",
    "\n",
    "# Instantiate the RBM model with the defined number of visible and hidden units.\n",
    "rbm = RBM(nv, nh)"
   ]
  },
  {
   "cell_type": "markdown",
   "metadata": {
    "id": "JXT6ofIOY61G"
   },
   "source": [
    "## Training the RBM"
   ]
  },
  {
   "cell_type": "code",
   "execution_count": 9,
   "metadata": {
    "colab": {
     "base_uri": "https://localhost:8080/"
    },
    "executionInfo": {
     "elapsed": 11737,
     "status": "ok",
     "timestamp": 1727885901309,
     "user": {
      "displayName": "Hadelin de Ponteves",
      "userId": "15047218817161520419"
     },
     "user_tz": -240
    },
    "id": "dBpiBfDZY-le",
    "outputId": "659dbc75-4a15-4b67-e505-f1ece3ef1c84"
   },
   "outputs": [
    {
     "name": "stdout",
     "output_type": "stream",
     "text": [
      "epoch: 1 loss: tensor(0.3472)\n",
      "epoch: 2 loss: tensor(0.2580)\n",
      "epoch: 3 loss: tensor(0.2332)\n",
      "epoch: 4 loss: tensor(0.2503)\n",
      "epoch: 5 loss: tensor(0.2453)\n",
      "epoch: 6 loss: tensor(0.2481)\n",
      "epoch: 7 loss: tensor(0.2447)\n",
      "epoch: 8 loss: tensor(0.2452)\n",
      "epoch: 9 loss: tensor(0.2486)\n",
      "epoch: 10 loss: tensor(0.2417)\n"
     ]
    }
   ],
   "source": [
    "# Define the number of training epochs.\n",
    "# nb_epoch: The number of times the entire training set will be passed through the model.\n",
    "nb_epoch = 10\n",
    "\n",
    "# Start the training loop, where the model will learn over a specified number of epochs.\n",
    "for epoch in range(1, nb_epoch + 1):\n",
    "\n",
    "    # Initialize variables to track the total training loss and the count of processed batches.\n",
    "    train_loss = 0  # To accumulate the loss for the epoch.\n",
    "    s = 0.0  # Counter to keep track of the number of processed batches.\n",
    "\n",
    "    # Loop through users in batches for training.\n",
    "    # Batch processing helps the model learn more efficiently, especially when working with large datasets.\n",
    "    for id_user in range(0, nb_users - batch_size, batch_size):\n",
    "\n",
    "        # Select a batch of users from the training set.\n",
    "        # vk: Visible layer used for the reconstruction steps (updated through Contrastive Divergence).\n",
    "        # v0: Initial visible layer (original data), used to compare with vk for calculating the loss.\n",
    "        vk = training_set[id_user : id_user + batch_size]\n",
    "        v0 = training_set[id_user : id_user + batch_size]\n",
    "\n",
    "        # Compute the initial probabilities of hidden units given the visible units (input data).\n",
    "        # ph0: The initial hidden layer activations (used for weight updates later in training).\n",
    "        ph0, _ = rbm.sample_h(v0)\n",
    "\n",
    "        # Perform k-step Contrastive Divergence for this batch.\n",
    "        # This iterative process helps the model approximate the expected values for training.\n",
    "        for k in range(10):\n",
    "            # Sample hidden layer based on the visible layer vk.\n",
    "            # hk: Hidden layer activations given vk.\n",
    "            _, hk = rbm.sample_h(vk)\n",
    "\n",
    "            # Sample the visible layer based on the hidden layer hk (reconstruction step).\n",
    "            # vk is updated to approximate the original data based on hidden representations.\n",
    "            _, vk = rbm.sample_v(hk)\n",
    "\n",
    "            # Ensure that ratings which were initially missing (v0 < 0) remain unchanged in vk.\n",
    "            # This preserves the original 'unknown' ratings, so they aren't incorrectly filled during training.\n",
    "            vk[v0 < 0] = v0[v0 < 0]\n",
    "\n",
    "        # After k iterations, compute the final probabilities of the hidden units given the reconstructed visible units.\n",
    "        # phk: Final hidden layer activations after k steps (used for weight updates).\n",
    "        phk, _ = rbm.sample_h(vk)\n",
    "\n",
    "        # Update the weights and biases in the RBM using the original and reconstructed data.\n",
    "        # This training step is based on the difference between initial and final states.\n",
    "        rbm.train(v0, vk, ph0, phk)\n",
    "\n",
    "        # Calculate the training loss for this batch.\n",
    "        # This is based on the mean absolute difference between original and reconstructed ratings.\n",
    "        # Only consider rated movies (where v0 >= 0) for loss calculation to ignore missing values.\n",
    "        train_loss += torch.mean(torch.abs(v0[v0 >= 0] - vk[v0 >= 0]))\n",
    "\n",
    "        # Increment the batch counter.\n",
    "        s += 1.0\n",
    "\n",
    "    # Print the average training loss for this epoch.\n",
    "    # The loss helps monitor how well the model is learning to reconstruct the input data.\n",
    "    print(\"epoch: \" + str(epoch) + \" loss: \" + str(train_loss / s))"
   ]
  },
  {
   "cell_type": "markdown",
   "metadata": {
    "id": "Dcksm8T5ZCpo"
   },
   "source": [
    "## Testing the RBM"
   ]
  },
  {
   "cell_type": "code",
   "execution_count": 10,
   "metadata": {
    "colab": {
     "base_uri": "https://localhost:8080/"
    },
    "executionInfo": {
     "elapsed": 28,
     "status": "ok",
     "timestamp": 1727885386828,
     "user": {
      "displayName": "Hadelin de Ponteves",
      "userId": "15047218817161520419"
     },
     "user_tz": -240
    },
    "id": "iAVLhcHsZGIA",
    "outputId": "2da606ff-d3f8-4e51-a0ce-ff57579fb053"
   },
   "outputs": [
    {
     "name": "stdout",
     "output_type": "stream",
     "text": [
      "test loss: tensor(0.2459)\n"
     ]
    }
   ],
   "source": [
    "# Initialize variables to calculate the test loss and keep track of the number of tested users.\n",
    "test_loss = 0  # To accumulate the test loss across all users.\n",
    "s = 0.0  # Counter to count the users with actual ratings for testing.\n",
    "\n",
    "# Loop through each user in the test set to evaluate the model's performance on unseen data.\n",
    "for id_user in range(nb_users):\n",
    "\n",
    "    # Select the user’s data from both the training and test sets.\n",
    "    # v: The user’s visible data from the training set (ratings used to activate hidden units).\n",
    "    # vt: The user’s data from the test set (actual ratings, used to calculate test loss).\n",
    "    v = training_set[id_user : id_user + 1]\n",
    "    vt = test_set[id_user : id_user + 1]\n",
    "\n",
    "    # Check if the user has any rated movies in the test set.\n",
    "    # If there are no ratings (vt < 0), skip this user to avoid meaningless calculations.\n",
    "    if len(vt[vt >= 0]) > 0:\n",
    "\n",
    "        # Sample the hidden units based on the training data.\n",
    "        # h: Hidden layer activations given the training ratings v.\n",
    "        _, h = rbm.sample_h(v)\n",
    "\n",
    "        # Reconstruct the visible units based on the hidden units.\n",
    "        # v: Reconstructed visible layer (ratings) using hidden activations.\n",
    "        _, v = rbm.sample_v(h)\n",
    "\n",
    "        # Calculate the mean absolute error between the test set ratings and reconstructed ratings.\n",
    "        # This difference measures how close the model’s predictions are to the actual ratings.\n",
    "        # Only consider rated movies (where vt >= 0) to avoid including missing data in the loss calculation.\n",
    "        test_loss += torch.mean(torch.abs(vt[vt >= 0] - v[vt >= 0]))\n",
    "\n",
    "        # Increment the counter for users with valid ratings in the test set.\n",
    "        s += 1.0\n",
    "\n",
    "# Calculate and print the average test loss.\n",
    "# The average test loss is the total test loss divided by the number of users with ratings, giving an indication\n",
    "# of the model’s performance in reconstructing unseen data. A lower loss indicates better performance.\n",
    "print(\"test loss: \" + str(test_loss / s))"
   ]
  }
 ],
 "metadata": {
  "colab": {
   "authorship_tag": "ABX9TyO49tNBkSWs31OOVHFx7mqa",
   "provenance": []
  },
  "kernelspec": {
   "display_name": ".torch",
   "language": "python",
   "name": "python3"
  },
  "language_info": {
   "codemirror_mode": {
    "name": "ipython",
    "version": 3
   },
   "file_extension": ".py",
   "mimetype": "text/x-python",
   "name": "python",
   "nbconvert_exporter": "python",
   "pygments_lexer": "ipython3",
   "version": "3.11.10"
  }
 },
 "nbformat": 4,
 "nbformat_minor": 0
}
