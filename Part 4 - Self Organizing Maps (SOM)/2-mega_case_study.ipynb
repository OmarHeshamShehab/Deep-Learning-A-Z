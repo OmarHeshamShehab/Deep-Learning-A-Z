{
 "cells": [
  {
   "cell_type": "markdown",
   "metadata": {
    "id": "4ttDzgHju6gA"
   },
   "source": [
    "# Mega Case Study"
   ]
  },
  {
   "cell_type": "markdown",
   "metadata": {
    "id": "oSwejljBvC9R"
   },
   "source": [
    "## Part 1 - SOM"
   ]
  },
  {
   "cell_type": "markdown",
   "metadata": {
    "id": "TEwWQkWvvMUW"
   },
   "source": [
    "### Importing the libraries"
   ]
  },
  {
   "cell_type": "code",
   "execution_count": null,
   "metadata": {
    "id": "MOOz-oDQvT9x"
   },
   "outputs": [],
   "source": []
  },
  {
   "cell_type": "markdown",
   "metadata": {
    "id": "YjJhJQKMvYaN"
   },
   "source": [
    "### Importing the dataset"
   ]
  },
  {
   "cell_type": "code",
   "execution_count": null,
   "metadata": {
    "id": "3WXBpYMCvayQ"
   },
   "outputs": [],
   "source": []
  },
  {
   "cell_type": "markdown",
   "metadata": {
    "id": "tvYpotq2viVh"
   },
   "source": [
    "### Feature Scaling"
   ]
  },
  {
   "cell_type": "code",
   "execution_count": null,
   "metadata": {
    "id": "dMSMIYTyvoJd"
   },
   "outputs": [],
   "source": []
  },
  {
   "cell_type": "markdown",
   "metadata": {
    "id": "vWwhBy7GvpOv"
   },
   "source": [
    "### Training the SOM"
   ]
  },
  {
   "cell_type": "code",
   "execution_count": null,
   "metadata": {
    "id": "ihfEpHUMvvI7"
   },
   "outputs": [],
   "source": []
  },
  {
   "cell_type": "markdown",
   "metadata": {
    "id": "v7-6SEWDv0Rp"
   },
   "source": [
    "### Visualizing the results"
   ]
  },
  {
   "cell_type": "code",
   "execution_count": null,
   "metadata": {
    "colab": {
     "base_uri": "https://localhost:8080/",
     "height": 435
    },
    "executionInfo": {
     "elapsed": 1580,
     "status": "ok",
     "timestamp": 1727881896121,
     "user": {
      "displayName": "Hadelin de Ponteves",
      "userId": "15047218817161520419"
     },
     "user_tz": -240
    },
    "id": "JXJIfjYLv2NY",
    "outputId": "76126ca8-7e9f-49b7-9c99-331de3ef2491"
   },
   "outputs": [],
   "source": []
  },
  {
   "cell_type": "markdown",
   "metadata": {
    "id": "m8Ovu0awv5Q-"
   },
   "source": [
    "### Finding the frauds"
   ]
  },
  {
   "cell_type": "code",
   "execution_count": null,
   "metadata": {
    "id": "p13Bss7Ov8xw"
   },
   "outputs": [],
   "source": []
  },
  {
   "cell_type": "markdown",
   "metadata": {
    "id": "In6qKWfGwAqg"
   },
   "source": [
    "### Printing the fraudulent clients"
   ]
  },
  {
   "cell_type": "code",
   "execution_count": null,
   "metadata": {
    "colab": {
     "base_uri": "https://localhost:8080/"
    },
    "executionInfo": {
     "elapsed": 375,
     "status": "ok",
     "timestamp": 1727881904878,
     "user": {
      "displayName": "Hadelin de Ponteves",
      "userId": "15047218817161520419"
     },
     "user_tz": -240
    },
    "id": "hOMHxTXMwF8H",
    "outputId": "8582044f-ab35-40f5-86f3-2a7fd75eafa3"
   },
   "outputs": [],
   "source": []
  },
  {
   "cell_type": "markdown",
   "metadata": {
    "id": "u3Btp2IowTuI"
   },
   "source": [
    "## Part 2 - Going from Unsupervised to Supervised Deep Learning"
   ]
  },
  {
   "cell_type": "markdown",
   "metadata": {
    "id": "IyeqCzjSwb_9"
   },
   "source": [
    "### Creating the Matrix of Features"
   ]
  },
  {
   "cell_type": "code",
   "execution_count": null,
   "metadata": {
    "id": "9Z984x7jwgMB"
   },
   "outputs": [],
   "source": []
  },
  {
   "cell_type": "markdown",
   "metadata": {
    "id": "IfHa4dWMwuEj"
   },
   "source": [
    "### Creating the Dependent Variable"
   ]
  },
  {
   "cell_type": "code",
   "execution_count": null,
   "metadata": {
    "id": "EGzqjrq2wyIE"
   },
   "outputs": [],
   "source": []
  },
  {
   "cell_type": "markdown",
   "metadata": {
    "id": "PktHoBxAw1Ij"
   },
   "source": [
    "## Part 3 - ANN"
   ]
  },
  {
   "cell_type": "markdown",
   "metadata": {
    "id": "_vSD07t1w_hS"
   },
   "source": [
    "### Feature Scaling"
   ]
  },
  {
   "cell_type": "code",
   "execution_count": null,
   "metadata": {
    "id": "BhZorSxcxDZx"
   },
   "outputs": [],
   "source": []
  },
  {
   "cell_type": "markdown",
   "metadata": {
    "id": "_CzB5frrxG0U"
   },
   "source": [
    "### Building the ANN"
   ]
  },
  {
   "cell_type": "code",
   "execution_count": null,
   "metadata": {
    "colab": {
     "base_uri": "https://localhost:8080/",
     "height": 35
    },
    "executionInfo": {
     "elapsed": 2878,
     "status": "ok",
     "timestamp": 1727881951373,
     "user": {
      "displayName": "Hadelin de Ponteves",
      "userId": "15047218817161520419"
     },
     "user_tz": -240
    },
    "id": "QFTPVZLzxj0C",
    "outputId": "309c6959-6f8c-455d-fa2c-a49bde09c275"
   },
   "outputs": [],
   "source": []
  },
  {
   "cell_type": "code",
   "execution_count": null,
   "metadata": {
    "id": "6HObjq9nxQZh"
   },
   "outputs": [],
   "source": []
  },
  {
   "cell_type": "markdown",
   "metadata": {
    "id": "6ERiPkPzxnIj"
   },
   "source": [
    "### Training the ANN"
   ]
  },
  {
   "cell_type": "code",
   "execution_count": null,
   "metadata": {
    "colab": {
     "base_uri": "https://localhost:8080/"
    },
    "executionInfo": {
     "elapsed": 8269,
     "status": "ok",
     "timestamp": 1727881967744,
     "user": {
      "displayName": "Hadelin de Ponteves",
      "userId": "15047218817161520419"
     },
     "user_tz": -240
    },
    "id": "OKhYcxZfxoxA",
    "outputId": "f48cd714-bbbb-4f84-88e4-99a0e58b4030"
   },
   "outputs": [],
   "source": []
  },
  {
   "cell_type": "markdown",
   "metadata": {
    "id": "EVCo73oPxrbW"
   },
   "source": [
    "### Predicting the test set results"
   ]
  },
  {
   "cell_type": "code",
   "execution_count": null,
   "metadata": {
    "colab": {
     "base_uri": "https://localhost:8080/"
    },
    "executionInfo": {
     "elapsed": 372,
     "status": "ok",
     "timestamp": 1727881976693,
     "user": {
      "displayName": "Hadelin de Ponteves",
      "userId": "15047218817161520419"
     },
     "user_tz": -240
    },
    "id": "evu4C31dxvD9",
    "outputId": "72840832-ad86-4b41-9f72-05470888f8ed"
   },
   "outputs": [],
   "source": []
  },
  {
   "cell_type": "code",
   "execution_count": null,
   "metadata": {
    "colab": {
     "base_uri": "https://localhost:8080/"
    },
    "executionInfo": {
     "elapsed": 692,
     "status": "ok",
     "timestamp": 1727881980447,
     "user": {
      "displayName": "Hadelin de Ponteves",
      "userId": "15047218817161520419"
     },
     "user_tz": -240
    },
    "id": "wKpLEkSTxyIH",
    "outputId": "26b00ad1-98f3-451d-9954-3921d19a0c00"
   },
   "outputs": [],
   "source": []
  }
 ],
 "metadata": {
  "colab": {
   "authorship_tag": "ABX9TyPywgeedkjG9OSUjlqbHY83",
   "provenance": []
  },
  "kernelspec": {
   "display_name": "Python 3",
   "name": "python3"
  },
  "language_info": {
   "name": "python"
  }
 },
 "nbformat": 4,
 "nbformat_minor": 0
}
